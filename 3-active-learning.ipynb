{
 "cells": [
  {
   "cell_type": "markdown",
   "metadata": {},
   "source": [
    "# 3. To increase data, we will use active learning"
   ]
  },
  {
   "cell_type": "code",
   "execution_count": 28,
   "metadata": {},
   "outputs": [],
   "source": [
    "import pandas as pd\n",
    "import numpy as np\n",
    "import re\n",
    "import time\n",
    "\n",
    "import bs4 as bs4\n",
    "import json\n",
    "\n",
    "import glob\n",
    "import tqdm\n",
    "\n",
    "from sklearn.ensemble import RandomForestClassifier\n",
    "from sklearn.feature_extraction.text import TfidfVectorizer\n",
    "from sklearn.metrics import roc_auc_score, average_precision_score\n",
    "from sklearn.model_selection import train_test_split\n",
    "\n",
    "from scipy.sparse import hstack, vstack"
   ]
  },
  {
   "cell_type": "code",
   "execution_count": 2,
   "metadata": {},
   "outputs": [
    {
     "data": {
      "text/plain": [
       "(522, 17)"
      ]
     },
     "execution_count": 2,
     "metadata": {},
     "output_type": "execute_result"
    }
   ],
   "source": [
    "df = pd.read_csv(\"raw_data_with_labels.csv\", index_col=0)\n",
    "df = df[df['y'].notnull()]\n",
    "df.shape"
   ]
  },
  {
   "cell_type": "code",
   "execution_count": 4,
   "metadata": {},
   "outputs": [],
   "source": [
    "df_clean = pd.DataFrame(index=df.index)\n",
    "df_clean['title'] = df['watch-title']"
   ]
  },
  {
   "cell_type": "markdown",
   "metadata": {},
   "source": [
    "## Limpeza de dados e treinamento de ML para o active learning"
   ]
  },
  {
   "cell_type": "markdown",
   "metadata": {},
   "source": [
    "### Pre processamento da data"
   ]
  },
  {
   "cell_type": "code",
   "execution_count": 45,
   "metadata": {},
   "outputs": [],
   "source": [
    "r_today = pd.to_datetime('today')\n",
    "today = r_today.strftime(\"%Y-%m-%d\")"
   ]
  },
  {
   "cell_type": "code",
   "execution_count": 6,
   "metadata": {},
   "outputs": [],
   "source": [
    "today_post = r_today.strftime(\"Publicado em %d de %b de %Y\")\n",
    "df = df.replace({'watch-time-text': r\"\\bhá \\b\\d+\\b hor.+\\b\"}, {'watch-time-text': today_post}, regex=True)\n",
    "clean_date = df['watch-time-text'].str.extract(r\"(\\d+) de ([a-zA-Z]+)\\.? de (\\d+)\")\n",
    "clean_date[0] = clean_date[0].map(lambda x: \"0\"+x[0] if len(x) == 1 else x)\n",
    "\n",
    "month_map = {\"jan\": \"Jan\", \"fev\": \"Feb\", \"mar\": \"Mar\", \"abr\": \"Apr\", \"mai\": \"May\", \"jun\": \"Jun\",\n",
    "             \"jul\": \"Jul\", \"ago\": \"Aug\", \"set\": \"Sep\", \"out\": \"Oct\", \"nov\": \"Nov\", \"dez\": \"Dec\"}\n",
    "\n",
    "clean_date[1] = clean_date[1].map(month_map).fillna(r_today.strftime(\"%b\"))\n",
    "    \n",
    "clean_date = clean_date.apply(lambda x: ' '.join(x), axis=1)\n",
    "df_clean['date'] = pd.to_datetime(clean_date, format=\"%d %b %Y\")"
   ]
  },
  {
   "cell_type": "markdown",
   "metadata": {},
   "source": [
    "### Pre processamento das views"
   ]
  },
  {
   "cell_type": "code",
   "execution_count": 7,
   "metadata": {},
   "outputs": [
    {
     "data": {
      "text/html": [
       "<div>\n",
       "<style scoped>\n",
       "    .dataframe tbody tr th:only-of-type {\n",
       "        vertical-align: middle;\n",
       "    }\n",
       "\n",
       "    .dataframe tbody tr th {\n",
       "        vertical-align: top;\n",
       "    }\n",
       "\n",
       "    .dataframe thead th {\n",
       "        text-align: right;\n",
       "    }\n",
       "</style>\n",
       "<table border=\"1\" class=\"dataframe\">\n",
       "  <thead>\n",
       "    <tr style=\"text-align: right;\">\n",
       "      <th></th>\n",
       "      <th>title</th>\n",
       "      <th>date</th>\n",
       "      <th>views</th>\n",
       "    </tr>\n",
       "  </thead>\n",
       "  <tbody>\n",
       "    <tr>\n",
       "      <th>0</th>\n",
       "      <td>#DataScience #Pandas #python Python Pandas Tut...</td>\n",
       "      <td>2020-04-11</td>\n",
       "      <td>62</td>\n",
       "    </tr>\n",
       "    <tr>\n",
       "      <th>1</th>\n",
       "      <td>Machine Learning Course A To Z || Beginner to ...</td>\n",
       "      <td>2018-08-10</td>\n",
       "      <td>174642</td>\n",
       "    </tr>\n",
       "    <tr>\n",
       "      <th>2</th>\n",
       "      <td>Python For Data Science Full Course - 9 Hours ...</td>\n",
       "      <td>2020-03-15</td>\n",
       "      <td>14707</td>\n",
       "    </tr>\n",
       "    <tr>\n",
       "      <th>3</th>\n",
       "      <td>Michael I. Jordan: Machine Learning: Dynamical...</td>\n",
       "      <td>2019-05-02</td>\n",
       "      <td>4021</td>\n",
       "    </tr>\n",
       "    <tr>\n",
       "      <th>4</th>\n",
       "      <td>From UX Designer to Data Scientist | How to Ch...</td>\n",
       "      <td>2020-04-13</td>\n",
       "      <td>20</td>\n",
       "    </tr>\n",
       "  </tbody>\n",
       "</table>\n",
       "</div>"
      ],
      "text/plain": [
       "                                               title       date   views\n",
       "0  #DataScience #Pandas #python Python Pandas Tut... 2020-04-11      62\n",
       "1  Machine Learning Course A To Z || Beginner to ... 2018-08-10  174642\n",
       "2  Python For Data Science Full Course - 9 Hours ... 2020-03-15   14707\n",
       "3  Michael I. Jordan: Machine Learning: Dynamical... 2019-05-02    4021\n",
       "4  From UX Designer to Data Scientist | How to Ch... 2020-04-13      20"
      ]
     },
     "execution_count": 7,
     "metadata": {},
     "output_type": "execute_result"
    }
   ],
   "source": [
    "views = df['watch-view-count'].str.extract(r\"(\\d+\\.?\\d*)\", expand=False).str.replace(\".\", \"\").fillna(0).astype(int)\n",
    "df_clean['views'] = views\n",
    "df_clean.head()"
   ]
  },
  {
   "cell_type": "markdown",
   "metadata": {},
   "source": [
    "### Definição das features"
   ]
  },
  {
   "cell_type": "code",
   "execution_count": 9,
   "metadata": {},
   "outputs": [],
   "source": [
    "features = pd.DataFrame(index=df_clean.index)\n",
    "y = df['y'].copy()"
   ]
  },
  {
   "cell_type": "code",
   "execution_count": 10,
   "metadata": {},
   "outputs": [],
   "source": [
    "features['days_since_pub'] = (pd.to_datetime(today) - df_clean['date']) / np.timedelta64(1, 'D')\n",
    "features['views'] = df_clean['views']\n",
    "features['daily_views'] = features['views'] / features['days_since_pub']\n",
    "features = features.drop(['days_since_pub'], axis=1)"
   ]
  },
  {
   "cell_type": "markdown",
   "metadata": {},
   "source": [
    "### Divisão em dados de treino e validação"
   ]
  },
  {
   "cell_type": "code",
   "execution_count": 18,
   "metadata": {},
   "outputs": [
    {
     "data": {
      "text/plain": [
       "((255, 2), (267, 2), (255,), (267,))"
      ]
     },
     "execution_count": 18,
     "metadata": {},
     "output_type": "execute_result"
    }
   ],
   "source": [
    "mask_train = df_clean['date'] < \"2019-03-01'\"\n",
    "mask_val = df_clean['date'] >= \"2019-03-01'\"\n",
    "\n",
    "Xtrain, Xval = features[mask_train], features[mask_val]\n",
    "ytrain, yval = y[mask_train], y[mask_val]\n",
    "Xtrain.shape, Xval.shape, ytrain.shape, yval.shape"
   ]
  },
  {
   "cell_type": "code",
   "execution_count": 20,
   "metadata": {},
   "outputs": [],
   "source": [
    "title_train = df_clean[mask_train]['title']\n",
    "title_val = df_clean[mask_val]['title']\n",
    "\n",
    "title_vec = TfidfVectorizer(min_df=2, ngram_range=(1,3))\n",
    "title_bow_train = title_vec.fit_transform(title_train)\n",
    "title_bow_val = title_vec.transform(title_val)"
   ]
  },
  {
   "cell_type": "code",
   "execution_count": 23,
   "metadata": {},
   "outputs": [],
   "source": [
    "Xtrain_wtitle = hstack([Xtrain, title_bow_train])\n",
    "Xval_wtitle = hstack([Xval, title_bow_val])"
   ]
  },
  {
   "cell_type": "code",
   "execution_count": 25,
   "metadata": {},
   "outputs": [
    {
     "data": {
      "text/plain": [
       "RandomForestClassifier(bootstrap=True, ccp_alpha=0.0, class_weight='balanced',\n",
       "                       criterion='gini', max_depth=None, max_features='auto',\n",
       "                       max_leaf_nodes=None, max_samples=None,\n",
       "                       min_impurity_decrease=0.0, min_impurity_split=None,\n",
       "                       min_samples_leaf=1, min_samples_split=2,\n",
       "                       min_weight_fraction_leaf=0.0, n_estimators=1000,\n",
       "                       n_jobs=6, oob_score=False, random_state=0, verbose=0,\n",
       "                       warm_start=False)"
      ]
     },
     "execution_count": 25,
     "metadata": {},
     "output_type": "execute_result"
    }
   ],
   "source": [
    "mdl = RandomForestClassifier(n_estimators=1000, random_state=0, class_weight=\"balanced\", n_jobs=6)\n",
    "mdl.fit(Xtrain_wtitle, ytrain)"
   ]
  },
  {
   "cell_type": "code",
   "execution_count": 26,
   "metadata": {},
   "outputs": [],
   "source": [
    "p = mdl.predict_proba(Xval_wtitle)[:, 1]"
   ]
  },
  {
   "cell_type": "markdown",
   "metadata": {},
   "source": [
    "### Active learning"
   ]
  },
  {
   "cell_type": "code",
   "execution_count": 34,
   "metadata": {},
   "outputs": [],
   "source": [
    "df_unlabeled = pd.read_csv(\"raw_data_with_labels.csv\", index_col=0)\n",
    "df_unlabeled = df_unlabeled[df_unlabeled['y'].isnull()].dropna(how='all')"
   ]
  },
  {
   "cell_type": "code",
   "execution_count": 35,
   "metadata": {},
   "outputs": [],
   "source": [
    "df_clean_u = pd.DataFrame(index=df_unlabeled.index)\n",
    "df_clean_u['title'] = df_unlabeled['watch-title']"
   ]
  },
  {
   "cell_type": "code",
   "execution_count": 47,
   "metadata": {},
   "outputs": [],
   "source": [
    "r_today = pd.to_datetime('today')\n",
    "today = r_today.strftime(\"%Y-%m-%d\")\n",
    "today_post = r_today.strftime(\"Publicado em %d de %b de %Y\")\n",
    "df = df_unlabeled.replace({'watch-time-text': r\"\\bhá \\b\\d+\\b hor.+\\b\"}, {'watch-time-text': today_post}, regex=True)\n",
    "clean_date = df_unlabeled['watch-time-text'].str.extract(r\"(\\d+) de ([a-zA-Z]+)\\.? de (\\d+)\")\n",
    "clean_date[0] = clean_date[0].map(lambda x: \"0\"+x[0] if len(x) == 1 else x)\n",
    "\n",
    "month_map = {\"jan\": \"Jan\", \"fev\": \"Feb\", \"mar\": \"Mar\", \"abr\": \"Apr\", \"mai\": \"May\", \"jun\": \"Jun\",\n",
    "             \"jul\": \"Jul\", \"ago\": \"Aug\", \"set\": \"Sep\", \"out\": \"Oct\", \"nov\": \"Nov\", \"dez\": \"Dec\"}\n",
    "\n",
    "clean_date[1] = clean_date[1].map(month_map).fillna(r_today.strftime(\"%b\"))\n",
    "    \n",
    "clean_date = clean_date.apply(lambda x: ' '.join(x), axis=1)\n",
    "df_clean_u['date'] = pd.to_datetime(clean_date, format=\"%d %b %Y\")"
   ]
  },
  {
   "cell_type": "code",
   "execution_count": 48,
   "metadata": {},
   "outputs": [],
   "source": [
    "views = df_unlabeled['watch-view-count'].str.extract(r\"(\\d+\\.?\\d*)\", expand=False).str.replace(\".\", \"\").fillna(0).astype(int)\n",
    "df_clean_u['views'] = views"
   ]
  },
  {
   "cell_type": "code",
   "execution_count": 49,
   "metadata": {},
   "outputs": [],
   "source": [
    "features_u = pd.DataFrame(index=df_clean_u.index)"
   ]
  },
  {
   "cell_type": "code",
   "execution_count": 50,
   "metadata": {},
   "outputs": [],
   "source": [
    "features_u['days_since_pub'] = (pd.to_datetime(today) - df_clean_u['date']) / np.timedelta64(1, 'D')\n",
    "features_u['views'] = df_clean_u['views']\n",
    "features_u['daily_views'] = features_u['views'] / features_u['days_since_pub']\n",
    "features_u = features_u.drop(['days_since_pub'], axis=1)"
   ]
  },
  {
   "cell_type": "code",
   "execution_count": 51,
   "metadata": {},
   "outputs": [],
   "source": [
    "title_u = df_clean_u['title']\n",
    "title_bow_u = title_vec.transform(title_u)"
   ]
  },
  {
   "cell_type": "code",
   "execution_count": 56,
   "metadata": {},
   "outputs": [
    {
     "data": {
      "text/plain": [
       "title    False\n",
       "views    False\n",
       "date     False\n",
       "dtype: bool"
      ]
     },
     "execution_count": 56,
     "metadata": {},
     "output_type": "execute_result"
    }
   ],
   "source": [
    "pd.isnull(df_clean_u).sum() > 0"
   ]
  },
  {
   "cell_type": "code",
   "execution_count": 57,
   "metadata": {},
   "outputs": [],
   "source": [
    "Xu_wtitle = hstack([features_u, title_bow_u])"
   ]
  },
  {
   "cell_type": "code",
   "execution_count": 58,
   "metadata": {},
   "outputs": [],
   "source": [
    "pu = mdl.predict_proba(Xu_wtitle)[:, 1]"
   ]
  },
  {
   "cell_type": "code",
   "execution_count": 59,
   "metadata": {},
   "outputs": [],
   "source": [
    "df_unlabeled['p'] = pu"
   ]
  },
  {
   "cell_type": "code",
   "execution_count": 60,
   "metadata": {},
   "outputs": [
    {
     "data": {
      "text/html": [
       "<div>\n",
       "<style scoped>\n",
       "    .dataframe tbody tr th:only-of-type {\n",
       "        vertical-align: middle;\n",
       "    }\n",
       "\n",
       "    .dataframe tbody tr th {\n",
       "        vertical-align: top;\n",
       "    }\n",
       "\n",
       "    .dataframe thead th {\n",
       "        text-align: right;\n",
       "    }\n",
       "</style>\n",
       "<table border=\"1\" class=\"dataframe\">\n",
       "  <thead>\n",
       "    <tr style=\"text-align: right;\">\n",
       "      <th></th>\n",
       "      <th>watch-title</th>\n",
       "      <th>y</th>\n",
       "      <th>og:url</th>\n",
       "      <th>watch-view-count</th>\n",
       "      <th>watch-time-text</th>\n",
       "      <th>content_watch-info-tag-list</th>\n",
       "      <th>watch7-headline</th>\n",
       "      <th>watch7-user-header</th>\n",
       "      <th>watch8-sentiment-actions</th>\n",
       "      <th>og:image</th>\n",
       "      <th>og:image:width</th>\n",
       "      <th>og:image:height</th>\n",
       "      <th>og:description</th>\n",
       "      <th>og:video:width</th>\n",
       "      <th>og:video:height</th>\n",
       "      <th>og:video:tag</th>\n",
       "      <th>channel_link_0</th>\n",
       "      <th>p</th>\n",
       "    </tr>\n",
       "  </thead>\n",
       "  <tbody>\n",
       "    <tr>\n",
       "      <th>75</th>\n",
       "      <td>Why Kaggle for data science practitioners</td>\n",
       "      <td>NaN</td>\n",
       "      <td>https://www.youtube.com/watch?v=1vBJZ9MOBc8</td>\n",
       "      <td>4.038 visualizações</td>\n",
       "      <td>Publicado em 8 de out. de 2017</td>\n",
       "      <td>Educação</td>\n",
       "      <td>Why Kaggle for data science practitioners</td>\n",
       "      <td>Minsuk Heo 허민석\\n\\n\\n\\n\\n\\n\\n\\n\\n\\n\\n\\n\\n\\nCarr...</td>\n",
       "      <td>4.038 visualizações\\n\\n\\n\\n\\n\\n\\n\\n31\\n\\nGosto...</td>\n",
       "      <td>https://i.ytimg.com/vi/1vBJZ9MOBc8/hqdefault.jpg</td>\n",
       "      <td>480</td>\n",
       "      <td>360</td>\n",
       "      <td>This is Kaggle introduction why Kaggle is the ...</td>\n",
       "      <td>960.0</td>\n",
       "      <td>720.0</td>\n",
       "      <td>data science practice</td>\n",
       "      <td>/channel/UCxP77kNgVfiiG6CXZ5WMuAQ</td>\n",
       "      <td>0.577</td>\n",
       "    </tr>\n",
       "  </tbody>\n",
       "</table>\n",
       "</div>"
      ],
      "text/plain": [
       "                                  watch-title   y  \\\n",
       "75  Why Kaggle for data science practitioners NaN   \n",
       "\n",
       "                                         og:url     watch-view-count  \\\n",
       "75  https://www.youtube.com/watch?v=1vBJZ9MOBc8  4.038 visualizações   \n",
       "\n",
       "                   watch-time-text content_watch-info-tag-list  \\\n",
       "75  Publicado em 8 de out. de 2017                    Educação   \n",
       "\n",
       "                              watch7-headline  \\\n",
       "75  Why Kaggle for data science practitioners   \n",
       "\n",
       "                                   watch7-user-header  \\\n",
       "75  Minsuk Heo 허민석\\n\\n\\n\\n\\n\\n\\n\\n\\n\\n\\n\\n\\n\\nCarr...   \n",
       "\n",
       "                             watch8-sentiment-actions  \\\n",
       "75  4.038 visualizações\\n\\n\\n\\n\\n\\n\\n\\n31\\n\\nGosto...   \n",
       "\n",
       "                                            og:image  og:image:width  \\\n",
       "75  https://i.ytimg.com/vi/1vBJZ9MOBc8/hqdefault.jpg             480   \n",
       "\n",
       "    og:image:height                                     og:description  \\\n",
       "75              360  This is Kaggle introduction why Kaggle is the ...   \n",
       "\n",
       "    og:video:width  og:video:height           og:video:tag  \\\n",
       "75           960.0            720.0  data science practice   \n",
       "\n",
       "                       channel_link_0      p  \n",
       "75  /channel/UCxP77kNgVfiiG6CXZ5WMuAQ  0.577  "
      ]
     },
     "execution_count": 60,
     "metadata": {},
     "output_type": "execute_result"
    }
   ],
   "source": [
    "df_unlabeled.head(1)"
   ]
  },
  {
   "cell_type": "code",
   "execution_count": 62,
   "metadata": {},
   "outputs": [],
   "source": [
    "mask_u = (df_unlabeled['p'] >= 0.45) & (df_unlabeled['p'] <= 0.55)"
   ]
  },
  {
   "cell_type": "code",
   "execution_count": 63,
   "metadata": {},
   "outputs": [
    {
     "data": {
      "text/html": [
       "<div>\n",
       "<style scoped>\n",
       "    .dataframe tbody tr th:only-of-type {\n",
       "        vertical-align: middle;\n",
       "    }\n",
       "\n",
       "    .dataframe tbody tr th {\n",
       "        vertical-align: top;\n",
       "    }\n",
       "\n",
       "    .dataframe thead th {\n",
       "        text-align: right;\n",
       "    }\n",
       "</style>\n",
       "<table border=\"1\" class=\"dataframe\">\n",
       "  <thead>\n",
       "    <tr style=\"text-align: right;\">\n",
       "      <th></th>\n",
       "      <th>watch-title</th>\n",
       "      <th>y</th>\n",
       "      <th>og:url</th>\n",
       "      <th>watch-view-count</th>\n",
       "      <th>watch-time-text</th>\n",
       "      <th>content_watch-info-tag-list</th>\n",
       "      <th>watch7-headline</th>\n",
       "      <th>watch7-user-header</th>\n",
       "      <th>watch8-sentiment-actions</th>\n",
       "      <th>og:image</th>\n",
       "      <th>og:image:width</th>\n",
       "      <th>og:image:height</th>\n",
       "      <th>og:description</th>\n",
       "      <th>og:video:width</th>\n",
       "      <th>og:video:height</th>\n",
       "      <th>og:video:tag</th>\n",
       "      <th>channel_link_0</th>\n",
       "      <th>p</th>\n",
       "    </tr>\n",
       "  </thead>\n",
       "  <tbody>\n",
       "    <tr>\n",
       "      <th>365</th>\n",
       "      <td>5 Must Have Skills To Become Machine Learning ...</td>\n",
       "      <td>NaN</td>\n",
       "      <td>https://www.youtube.com/watch?v=DZ7xuZ1-uh8</td>\n",
       "      <td>357.604 visualizações</td>\n",
       "      <td>Publicado em 6 de fev. de 2018</td>\n",
       "      <td>Pessoas e blogs</td>\n",
       "      <td>5 Must Have Skills To Become Machine Learning ...</td>\n",
       "      <td>Art of Engineer\\n\\n\\n\\n\\n\\n\\n\\n\\n\\n\\n\\n\\n\\nCar...</td>\n",
       "      <td>357.604 visualizações\\n\\n\\n\\n\\n\\n\\n\\n14.133\\n\\...</td>\n",
       "      <td>https://i.ytimg.com/vi/DZ7xuZ1-uh8/hqdefault.jpg</td>\n",
       "      <td>480</td>\n",
       "      <td>360</td>\n",
       "      <td>If this video is helpful to you, you can suppo...</td>\n",
       "      <td>1280.0</td>\n",
       "      <td>720.0</td>\n",
       "      <td>machine learning job skills</td>\n",
       "      <td>/channel/UCTXLMW9262FBpcQTVNXQ8Aw</td>\n",
       "      <td>0.45</td>\n",
       "    </tr>\n",
       "    <tr>\n",
       "      <th>1442</th>\n",
       "      <td>Backpropagation calculus | Deep learning, chap...</td>\n",
       "      <td>NaN</td>\n",
       "      <td>https://www.youtube.com/watch?v=tIeHLnjs5U8</td>\n",
       "      <td>1.047.347 visualizações</td>\n",
       "      <td>Publicado em 3 de nov. de 2017</td>\n",
       "      <td>Educação</td>\n",
       "      <td>3Blue1Brown series T3 • E4\\n\\n\\n\\n    Backprop...</td>\n",
       "      <td>3Blue1Brown\\n\\n\\n\\n\\n\\n\\n\\n\\n\\n\\n\\n\\n\\n\\nCarre...</td>\n",
       "      <td>1.047.347 visualizações\\n\\n\\n\\n\\n\\n\\n\\n21.554\\...</td>\n",
       "      <td>https://i.ytimg.com/vi/tIeHLnjs5U8/maxresdefau...</td>\n",
       "      <td>1280</td>\n",
       "      <td>720</td>\n",
       "      <td>Brought to you by you: http://3b1b.co/nn3-than...</td>\n",
       "      <td>1280.0</td>\n",
       "      <td>720.0</td>\n",
       "      <td>3brown1blue</td>\n",
       "      <td>/channel/UCYO_jab_esuFRV4b17AJtAw</td>\n",
       "      <td>0.45</td>\n",
       "    </tr>\n",
       "    <tr>\n",
       "      <th>372</th>\n",
       "      <td>Rethinking Business: Data Analytics With Googl...</td>\n",
       "      <td>NaN</td>\n",
       "      <td>https://www.youtube.com/watch?v=DpngHc31a5Y</td>\n",
       "      <td>6.068 visualizações</td>\n",
       "      <td>Publicado em 10 de abr. de 2019</td>\n",
       "      <td>Ciência e tecnologia</td>\n",
       "      <td>Rethinking Business: Data Analytics With Googl...</td>\n",
       "      <td>G Suite\\n\\n\\n\\n\\n\\n\\n\\n\\n\\n\\n\\n\\n\\nCarregando....</td>\n",
       "      <td>6.068 visualizações\\n\\n\\n\\n\\n\\n\\n\\n84\\n\\nGosto...</td>\n",
       "      <td>https://i.ytimg.com/vi/DpngHc31a5Y/maxresdefau...</td>\n",
       "      <td>1280</td>\n",
       "      <td>720</td>\n",
       "      <td>People, process, &amp; technology: these universal...</td>\n",
       "      <td>1280.0</td>\n",
       "      <td>720.0</td>\n",
       "      <td>official</td>\n",
       "      <td>/channel/UCBmwzQnSoj9b6HzNmFrg_yw</td>\n",
       "      <td>0.45</td>\n",
       "    </tr>\n",
       "  </tbody>\n",
       "</table>\n",
       "</div>"
      ],
      "text/plain": [
       "                                            watch-title   y  \\\n",
       "365   5 Must Have Skills To Become Machine Learning ... NaN   \n",
       "1442  Backpropagation calculus | Deep learning, chap... NaN   \n",
       "372   Rethinking Business: Data Analytics With Googl... NaN   \n",
       "\n",
       "                                           og:url         watch-view-count  \\\n",
       "365   https://www.youtube.com/watch?v=DZ7xuZ1-uh8    357.604 visualizações   \n",
       "1442  https://www.youtube.com/watch?v=tIeHLnjs5U8  1.047.347 visualizações   \n",
       "372   https://www.youtube.com/watch?v=DpngHc31a5Y      6.068 visualizações   \n",
       "\n",
       "                      watch-time-text content_watch-info-tag-list  \\\n",
       "365    Publicado em 6 de fev. de 2018             Pessoas e blogs   \n",
       "1442   Publicado em 3 de nov. de 2017                    Educação   \n",
       "372   Publicado em 10 de abr. de 2019        Ciência e tecnologia   \n",
       "\n",
       "                                        watch7-headline  \\\n",
       "365   5 Must Have Skills To Become Machine Learning ...   \n",
       "1442  3Blue1Brown series T3 • E4\\n\\n\\n\\n    Backprop...   \n",
       "372   Rethinking Business: Data Analytics With Googl...   \n",
       "\n",
       "                                     watch7-user-header  \\\n",
       "365   Art of Engineer\\n\\n\\n\\n\\n\\n\\n\\n\\n\\n\\n\\n\\n\\nCar...   \n",
       "1442  3Blue1Brown\\n\\n\\n\\n\\n\\n\\n\\n\\n\\n\\n\\n\\n\\n\\nCarre...   \n",
       "372   G Suite\\n\\n\\n\\n\\n\\n\\n\\n\\n\\n\\n\\n\\n\\nCarregando....   \n",
       "\n",
       "                               watch8-sentiment-actions  \\\n",
       "365   357.604 visualizações\\n\\n\\n\\n\\n\\n\\n\\n14.133\\n\\...   \n",
       "1442  1.047.347 visualizações\\n\\n\\n\\n\\n\\n\\n\\n21.554\\...   \n",
       "372   6.068 visualizações\\n\\n\\n\\n\\n\\n\\n\\n84\\n\\nGosto...   \n",
       "\n",
       "                                               og:image  og:image:width  \\\n",
       "365    https://i.ytimg.com/vi/DZ7xuZ1-uh8/hqdefault.jpg             480   \n",
       "1442  https://i.ytimg.com/vi/tIeHLnjs5U8/maxresdefau...            1280   \n",
       "372   https://i.ytimg.com/vi/DpngHc31a5Y/maxresdefau...            1280   \n",
       "\n",
       "      og:image:height                                     og:description  \\\n",
       "365               360  If this video is helpful to you, you can suppo...   \n",
       "1442              720  Brought to you by you: http://3b1b.co/nn3-than...   \n",
       "372               720  People, process, & technology: these universal...   \n",
       "\n",
       "      og:video:width  og:video:height                 og:video:tag  \\\n",
       "365           1280.0            720.0  machine learning job skills   \n",
       "1442          1280.0            720.0                  3brown1blue   \n",
       "372           1280.0            720.0                     official   \n",
       "\n",
       "                         channel_link_0     p  \n",
       "365   /channel/UCTXLMW9262FBpcQTVNXQ8Aw  0.45  \n",
       "1442  /channel/UCYO_jab_esuFRV4b17AJtAw  0.45  \n",
       "372   /channel/UCBmwzQnSoj9b6HzNmFrg_yw  0.45  "
      ]
     },
     "execution_count": 63,
     "metadata": {},
     "output_type": "execute_result"
    }
   ],
   "source": [
    "df_unlabeled[mask_u].sort_values(\"p\").head(3)"
   ]
  },
  {
   "cell_type": "code",
   "execution_count": 64,
   "metadata": {},
   "outputs": [],
   "source": [
    "hard_decisions = df_unlabeled[mask_u]"
   ]
  },
  {
   "cell_type": "code",
   "execution_count": 65,
   "metadata": {},
   "outputs": [],
   "source": [
    "randoms = df_unlabeled[~mask_u].sample(31)"
   ]
  },
  {
   "cell_type": "code",
   "execution_count": 66,
   "metadata": {},
   "outputs": [],
   "source": [
    "pd.concat([hard_decisions, randoms]).to_csv(\"active_label.csv\")"
   ]
  }
 ],
 "metadata": {
  "kernelspec": {
   "display_name": "Python 3",
   "language": "python",
   "name": "python3"
  },
  "language_info": {
   "codemirror_mode": {
    "name": "ipython",
    "version": 3
   },
   "file_extension": ".py",
   "mimetype": "text/x-python",
   "name": "python",
   "nbconvert_exporter": "python",
   "pygments_lexer": "ipython3",
   "version": "3.6.9"
  }
 },
 "nbformat": 4,
 "nbformat_minor": 4
}
